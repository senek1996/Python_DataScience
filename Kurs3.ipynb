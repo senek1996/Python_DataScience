{
 "cells": [
  {
   "cell_type": "code",
   "execution_count": 1,
   "metadata": {},
   "outputs": [],
   "source": [
    "'''\n",
    "В данной версии КП будут использоваться модели, предложенные наставником, а также будет проведено\n",
    "исследование влияния разделения признаков на результат\n",
    "'''\n",
    "\n",
    "import numpy as np, pandas as pd, os, seaborn as sns\n",
    "from sklearn.metrics import r2_score\n",
    "from sklearn.model_selection import train_test_split\n",
    "from sklearn.ensemble import RandomForestRegressor as RFReg\n",
    "\n",
    "\n",
    "wrk='C:\\\\Users\\\\Lenovo\\\\Documents\\\\GeekBrains\\\\Python DataScience Kurs'\n",
    "train=pd.read_csv(os.path.join(wrk,'train.csv'))\n",
    "\n",
    "train=train.drop(['Id'],axis=1) #удаляем стоблбец id - он нам не нужен\n",
    "cols=train.columns.to_numpy()\n",
    "\n",
    "res={}\n",
    "\n",
    "for x in cols:\n",
    "    res[x]=train[x].value_counts().sort_index()"
   ]
  },
  {
   "cell_type": "code",
   "execution_count": 2,
   "metadata": {},
   "outputs": [
    {
     "name": "stderr",
     "output_type": "stream",
     "text": [
      "<ipython-input-2-a24db798ef3c>:37: SettingWithCopyWarning: \n",
      "A value is trying to be set on a copy of a slice from a DataFrame\n",
      "\n",
      "See the caveats in the documentation: https://pandas.pydata.org/pandas-docs/stable/user_guide/indexing.html#returning-a-view-versus-a-copy\n",
      "  train['Healthcare_1'][0]=train['Healthcare_1'].median() #в первой строке осталось nan-значение\n"
     ]
    }
   ],
   "source": [
    "'''\n",
    "Результаты анализа значений:\n",
    "    \n",
    "    DistrictId - 205 возможных значений. Прямой/обратной зависимости (чем больше id, тем лучше/хуже район)\n",
    "            стоимости квартиры от данного параметра не предполагается. Поэтому отнесем к дискретным;\n",
    "    Rooms - 9 различных значений. Предполагается зависимость цены квартиры от кол-ва комнат, поэтому отнесем этот\n",
    "            параметр к непрерывным;\n",
    "    Square - 10000 различных значений. ОТносим к непрерывным признакам;\n",
    "    LifeSquare - 7887 различных значений. Относим к непрерывным значениям; Значения nan будем заменять значениями\n",
    "            Square-KitchenSquare ПОСЛЕ редактирования KitchenSquare;\n",
    "    KitchenSquare - 58 различных значений. Предполагается зависимость цены квартиры от площади кухни, поэтому отнесем этот\n",
    "            параметр к непрерывным. Почти 25% значений равны 1 => заменим их на медиану без учета 1.\n",
    "            Есть ошибочные значения 1970 и 2014 (видимо, год постройки дома);\n",
    "    Floor - 33 различных значения. Предполагается зависимость цены квартиры от ее этажа, поэтому отнесем этот\n",
    "            параметр к непрерывным;\n",
    "    HouseFloor - 44 различных значения. Предполагается зависимость цены квартиры от этажности дома, поэтому\n",
    "            отнесем этот параметр к непрерывным; ОБРАБОТКА ОШИБОЧНЫХ ЗНАЧЕНИЙ: Floor <= HouseFloor и HouseFloor!=0;\n",
    "    HouseYear - 97 различных значений. Предполагается зависимость цены квартиры от года постройки дома, поэтому\n",
    "            отнесем этот параметр к непрерывным; Ошибочные значения: 4968 и 20052011;\n",
    "    Ecology_1 - 129 непрерывных значений. Отнесем этот параметр к непрерывным;\n",
    "    Ecology_2 - 2 значения (A/B). Отнесем этот параметр к дискретным;\n",
    "    Ecology_3 - 2 значения (A/B). Отнесем этот параметр к дискретным;\n",
    "    Social_1 - 51 различное значение. Предполагается зависимость цены квартиры от социальных условий, поэтому\n",
    "            отнесем этот параметр к непрерывным;\n",
    "    Social_2 - 142 различных значения. Аналогично;\n",
    "    Social_3 - 30 различных значений. Аналогично;\n",
    "    Healthcare_1 - 79 различных значений. Аналогично;\n",
    "    Helthcare_2 - 7 различных значений. Из-за этого отнесем этот параметр к дискретным;\n",
    "    Shops_1 - 16 различных значений. Предполагается зависимость цены квартиры от доступности магазинов, поэтому\n",
    "            отнесем этот параметр к непрерывным;\n",
    "    Shops_2 - 2 значения (A/B). Отнесем этот параметр к дискретным;\n",
    "    \n",
    "'''\n",
    "\n",
    "#заполняем nan-значения предыдущими\n",
    "train=train.fillna(method='pad')\n",
    "train['Healthcare_1'][0]=train['Healthcare_1'].median() #в первой строке осталось nan-значение\n",
    "\n",
    "#переводим категориальные переменные в dummy-переменные\n",
    "train=pd.get_dummies(train,prefix=['eco2','eco3','sh2'])\n",
    "cols=train.columns.to_numpy()\n",
    "cols_x=list(cols)\n",
    "cols_x.remove('Price')\n",
    "\n",
    "'''определление важности признаков'''\n",
    "feats_tab=train.copy()\n",
    "answ_tab=feats_tab['Price']\n",
    "feats_tab=feats_tab.drop(['Price'],axis=1)\n",
    "\n",
    "feats_tab=feats_tab.to_numpy()\n",
    "answ_tab=answ_tab.to_numpy()"
   ]
  },
  {
   "cell_type": "code",
   "execution_count": 3,
   "metadata": {},
   "outputs": [
    {
     "name": "stdout",
     "output_type": "stream",
     "text": [
      "Значение r2 первой модели: 0.7204341123674933\n",
      "Значение r2 второй модели: 0.7360265270645087\n"
     ]
    }
   ],
   "source": [
    "'''\n",
    "Обработку данных будем проводить как во второй версии КП.\n",
    "Будем рассматривать 2 модели случайного леса с одинаковыми параметрами (за исключением максимального кол-ва\n",
    "признаков). В первом случае будем рассматривать все признаки, а во втором - 7\n",
    "'''\n",
    "\n",
    "#подготовка тестовой выборки к разделению для обучения множества регрессоров\n",
    "X=train.copy()\n",
    "y=X['Price']\n",
    "X=X.drop(['Price'],axis=1)\n",
    "X=X.to_numpy()\n",
    "y=y.to_numpy()\n",
    "X_train,X_test,y_train,y_test=train_test_split(X,y,test_size=0.15,random_state=42)\n",
    "\n",
    "#построение моделей\n",
    "model1 = RFReg(n_estimators=1442, max_depth=18, random_state=42) #весь 21 признак\n",
    "model1.fit(X_train,y_train)\n",
    "test_react=model1.predict(X_test)\n",
    "r2_mdl1=r2_score(y_test,test_react)\n",
    "print('Значение r2 первой модели: '+str(r2_mdl1))\n",
    "\n",
    "model2 = RFReg(n_estimators=1442, max_depth=18, random_state=42, max_features=7) # 7 признаков\n",
    "model2.fit(X_train,y_train)\n",
    "test_react=model2.predict(X_test)\n",
    "r2_mdl2=r2_score(y_test,test_react)\n",
    "print('Значение r2 второй модели: '+str(r2_mdl2))"
   ]
  },
  {
   "cell_type": "code",
   "execution_count": null,
   "metadata": {},
   "outputs": [],
   "source": [
    "'''\n",
    "Наибольшее значение r2 показал ансамбль с максимальным кол-вом признаков, равным 7 (0.7360).\n",
    "Следовательно, разделение признаков положительно влияет на процесс обучения.\n",
    "Обучим вторую модель на тестовой выборке\n",
    "'''\n",
    "\n",
    "reg=RFReg(n_estimators=1442, max_depth=18, random_state=42, max_features=7)\n",
    "reg.fit(feats_tab,answ_tab)\n",
    "\n",
    "#проверка модели\n",
    "test=pd.read_csv(os.path.join(wrk,'test.csv'))\n",
    "test=test.drop(['Id'],axis=1) #удаляем стоблбец id - он нам не нужен\n",
    "\n",
    "'''В тестовых данных также имеются пропуски и неточности. Обработаем их точно так же, как и обучающие данные:'''\n",
    "test=test.fillna(method='pad')\n",
    "test=pd.get_dummies(test,prefix=['eco2','eco3','sh2'])\n",
    "test['Healthcare_1'][0:2]=test['Healthcare_1'].median() #в первой строке осталось nan-значение\n",
    "\n",
    "#загружаем тестовые данные в модель и вычисляем результат\n",
    "test_pred=reg.predict(test.to_numpy())\n",
    "test_pred=pd.Series(test_pred)\n",
    "\n",
    "test_pred_to_save=pd.read_csv(os.path.join(wrk,'sample_submission.csv')) #шаблон для загрузки на Kaggle\n",
    "test_pred_to_save['Price']=test_pred\n",
    "test_pred_to_save.to_csv(os.path.join(wrk,'test_pred.csv'),index=False)"
   ]
  }
 ],
 "metadata": {
  "kernelspec": {
   "display_name": "Python 3",
   "language": "python",
   "name": "python3"
  },
  "language_info": {
   "codemirror_mode": {
    "name": "ipython",
    "version": 3
   },
   "file_extension": ".py",
   "mimetype": "text/x-python",
   "name": "python",
   "nbconvert_exporter": "python",
   "pygments_lexer": "ipython3",
   "version": "3.8.5"
  }
 },
 "nbformat": 4,
 "nbformat_minor": 4
}
